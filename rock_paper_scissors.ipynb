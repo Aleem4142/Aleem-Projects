{
  "nbformat": 4,
  "nbformat_minor": 0,
  "metadata": {
    "colab": {
      "provenance": [],
      "authorship_tag": "ABX9TyMS2pfkuIgSFwN/ePjbZQKx",
      "include_colab_link": true
    },
    "kernelspec": {
      "name": "python3",
      "display_name": "Python 3"
    },
    "language_info": {
      "name": "python"
    }
  },
  "cells": [
    {
      "cell_type": "markdown",
      "metadata": {
        "id": "view-in-github",
        "colab_type": "text"
      },
      "source": [
        "<a href=\"https://colab.research.google.com/github/Aleem4142/Aleem-Projects/blob/main/rock_paper_scissors.ipynb\" target=\"_parent\"><img src=\"https://colab.research.google.com/assets/colab-badge.svg\" alt=\"Open In Colab\"/></a>"
      ]
    },
    {
      "cell_type": "code",
      "execution_count": 2,
      "metadata": {
        "colab": {
          "base_uri": "https://localhost:8080/"
        },
        "id": "Utmdn4_lqhGr",
        "outputId": "a02ffb4d-8e4e-4420-b051-3745f82ff245"
      },
      "outputs": [
        {
          "output_type": "stream",
          "name": "stdout",
          "text": [
            "What's your choice? 'r' for rock, 'p' for paper, 's' for scissors\n",
            "s\n",
            "It's a tie\n"
          ]
        }
      ],
      "source": [
        "\n",
        "import random\n",
        "\n",
        "def play():\n",
        "    user = input(\"What's your choice? 'r' for rock, 'p' for paper, 's' for scissors\\n\")\n",
        "    computer = random.choice(['r', 'p', 's'])\n",
        "\n",
        "    if user == computer:\n",
        "        return 'It\\'s a tie'\n",
        "\n",
        "    # r > s, s > p, p > r\n",
        "    if is_win(user, computer):\n",
        "        return 'You won!'\n",
        "\n",
        "    return 'You lost!'\n",
        "\n",
        "def is_win(player , opponent):\n",
        "    # return true if player wins\n",
        "    # r > s, s > p , p > r\n",
        "    if (player == 'r' and opponent == 's') or (player == 's' and opponent == 'p')\\\n",
        "        or (player == 'p' and opponent == 'r'):\n",
        "        return True\n",
        "\n",
        "print(play())\n",
        ""
      ]
    },
    {
      "cell_type": "code",
      "source": [],
      "metadata": {
        "id": "Vmcom3Qc2DC9"
      },
      "execution_count": null,
      "outputs": []
    },
    {
      "cell_type": "code",
      "source": [],
      "metadata": {
        "id": "poX7h_1u2DCE"
      },
      "execution_count": null,
      "outputs": []
    }
  ]
}