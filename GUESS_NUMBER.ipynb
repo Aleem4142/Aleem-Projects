{
  "nbformat": 4,
  "nbformat_minor": 0,
  "metadata": {
    "colab": {
      "provenance": [],
      "authorship_tag": "ABX9TyORGh//U7QGOWf6ug7VMvjE",
      "include_colab_link": true
    },
    "kernelspec": {
      "name": "python3",
      "display_name": "Python 3"
    },
    "language_info": {
      "name": "python"
    }
  },
  "cells": [
    {
      "cell_type": "markdown",
      "metadata": {
        "id": "view-in-github",
        "colab_type": "text"
      },
      "source": [
        "<a href=\"https://colab.research.google.com/github/Aleem4142/Aleem-Projects/blob/main/GUESS_NUMBER.ipynb\" target=\"_parent\"><img src=\"https://colab.research.google.com/assets/colab-badge.svg\" alt=\"Open In Colab\"/></a>"
      ]
    },
    {
      "cell_type": "code",
      "execution_count": 2,
      "metadata": {
        "id": "GrvR2EJvjHH7"
      },
      "outputs": [],
      "source": [
        "import random\n",
        "\n",
        "def guess(x):\n",
        "  random_number = random.randint(1,x)\n",
        "  guess = 0\n",
        "  while guess != random_number:\n",
        "    guess = int(input(f'Guess a number between 1 and {x}: '))\n",
        "    if guess < random_number:\n",
        "      print('Sorry, guess again. Too low. ')\n",
        "    elif guess > random_number:\n",
        "        print('Sorry, guess again.Too high. ')\n",
        "\n",
        "  print(f'Yay, congrats. You have guessed the number {random_number} correctly!!')\n",
        "\n",
        "\n",
        "  guess(10)"
      ]
    }
  ]
}